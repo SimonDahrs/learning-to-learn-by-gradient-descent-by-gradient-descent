{
 "cells": [
  {
   "cell_type": "markdown",
   "id": "anticipated-williams",
   "metadata": {},
   "source": [
    "## Learning to learn by gradient descent by gradient descent\n",
    "\n",
    "In this notebook, we try GRU instead of LSTM netowrks as optimizers"
   ]
  },
  {
   "cell_type": "code",
   "execution_count": 1,
   "id": "floral-namibia",
   "metadata": {},
   "outputs": [],
   "source": [
    "%reload_ext autoreload\n",
    "%autoreload 2\n",
    "%matplotlib inline"
   ]
  },
  {
   "cell_type": "code",
   "execution_count": 2,
   "id": "narrow-revision",
   "metadata": {},
   "outputs": [
    {
     "name": "stderr",
     "output_type": "stream",
     "text": [
      "F:\\Programs\\anaconda3\\envs\\learning-to-learn-by-gradient-descent-by-gradient-descent\\lib\\site-packages\\matplotlib\\__init__.py:886: MatplotlibDeprecationWarning: \n",
      "examples.directory is deprecated; in the future, examples will be found relative to the 'datapath' directory.\n",
      "  \"found relative to the 'datapath' directory.\".format(key))\n"
     ]
    }
   ],
   "source": [
    "import glob\n",
    "import numpy as np\n",
    "\n",
    "import torch\n",
    "import torch.nn as nn\n",
    "import torch.nn.functional as F\n",
    "import torch.autograd as autograd\n",
    "import torch.optim as optim\n",
    "from torch.autograd import Variable\n",
    "from torchvision import datasets\n",
    "import torchvision\n",
    "from torchsummary import summary\n",
    "\n",
    "import matplotlib.pyplot as plt\n",
    "import random\n",
    "from tqdm import tqdm_notebook as tqdm\n",
    "import multiprocessing\n",
    "import os.path\n",
    "from os import path\n",
    "import csv\n",
    "import copy\n",
    "import joblib\n",
    "import seaborn as sns; sns.set(color_codes=True)\n",
    "sns.set_style(\"white\")\n",
    "from pdb import set_trace as bp"
   ]
  },
  {
   "cell_type": "code",
   "execution_count": 3,
   "id": "lightweight-soviet",
   "metadata": {},
   "outputs": [],
   "source": [
    "USE_CUDA = torch.cuda.is_available()\n",
    "\n",
    "def w(v):\n",
    "    if USE_CUDA:\n",
    "        return v.cuda()\n",
    "    return v"
   ]
  },
  {
   "cell_type": "code",
   "execution_count": 4,
   "id": "administrative-manchester",
   "metadata": {},
   "outputs": [],
   "source": [
    "if not path.isdir('cache'):\n",
    "    !mkdir cache\n",
    "cache = joblib.Memory(location='cache', verbose=0)"
   ]
  },
  {
   "cell_type": "code",
   "execution_count": 5,
   "id": "nervous-dayton",
   "metadata": {},
   "outputs": [],
   "source": [
    "from meta_module import *"
   ]
  },
  {
   "cell_type": "markdown",
   "id": "pressing-crest",
   "metadata": {},
   "source": [
    "## Gradient detach\n",
    "\n",
    "As we perform operations, Pytorch builds the computational graph of the operations we perform. However, there are some variables that we want to detach from the graph at various points, specifically we want to pretend that the **gradients are inputs** (as specified in the previous image) that come from nowhere, instead of coming from the rest of the computational graph as they really do: this means we want to **detach** the gradients from the graph. Likewise, when every 20 steps we perform backpropagation on the optimizer network, we want the current hidden states and cell states, as well as the parameters of the optimizee to \"forget\" that they are dependent on previous steps in the graph. For all of this, I created a function called `detach_var` which creates a new Variable from the current variable's data, and makes sure that its gradients are still kept. This is different from the `.detach()` function in Pytorch which does not quite forget the original graph and also does not guarantee that the gradients will be there."
   ]
  },
  {
   "cell_type": "code",
   "execution_count": 6,
   "id": "productive-friend",
   "metadata": {},
   "outputs": [],
   "source": [
    "def detach_var(v):\n",
    "    var = w(Variable(v.data, requires_grad=True))\n",
    "    var.retain_grad()\n",
    "    return var\n",
    "\n",
    "import functools\n",
    "\n",
    "def rsetattr(obj, attr, val):\n",
    "    pre, _, post = attr.rpartition('.')\n",
    "    return setattr(rgetattr(obj, pre) if pre else obj, post, val)\n",
    "\n",
    "# using wonder's beautiful simplification: https://stackoverflow.com/questions/31174295/getattr-and-setattr-on-nested-objects/31174427?noredirect=1#comment86638618_31174427\n",
    "\n",
    "def rgetattr(obj, attr, *args):\n",
    "    def _getattr(obj, attr):\n",
    "        return getattr(obj, attr, *args)\n",
    "    return functools.reduce(_getattr, [obj] + attr.split('.'))"
   ]
  },
  {
   "cell_type": "markdown",
   "id": "nearby-flush",
   "metadata": {},
   "source": [
    "## Training functions for Optimizer Network"
   ]
  },
  {
   "cell_type": "code",
   "execution_count": 7,
   "id": "quarterly-japanese",
   "metadata": {},
   "outputs": [],
   "source": [
    "def do_fit(optimizer_net, meta_opt, cost_cls, target_to_opt, unroll, optim_it, n_epochs, out_mul, preproc = True, should_train=True):\n",
    "\n",
    "    r\"\"\"\"\n",
    "    \n",
    "    Input variables:\n",
    "\n",
    "    optimizer_net:      optimizer network class\n",
    "    meta_opt:           optimizer method for the optimizer, in this notebook we use ADAM\n",
    "    cost_cls:           cost/loss function\n",
    "    target_to_opt:      optimizee class\n",
    "    optim_it, unroll:   Each epoch is made up of trying to optimize a new random function for 'optim_it' steps, \n",
    "                        but we are doing an update of the optimizer every 'unroll' steps.                       \n",
    "    n_epochs:           number of epochs\n",
    "    out_mul:            learning rate for update parameters in the optimizee network?\n",
    "    params:             number of parameters of the omptimizee network\n",
    "    \"\"\"\n",
    "\n",
    "    ## ---- DEFINE OBJETIVE OF THE FUNCTION ---- ##\n",
    "    ## ----         TRAIN  or TEST          ---- ##\n",
    "    \n",
    "    if should_train:\n",
    "        optimizer_net.train()\n",
    "    else:\n",
    "        optimizer_net.eval()\n",
    "        unroll = 1\n",
    "\n",
    "    ## ---- INITIALIZE CLASSES AND VARIABLES ---- ##    \n",
    "    target = cost_cls(training=should_train)\n",
    "    optimizee = w(target_to_opt())\n",
    "    n_params = 0\n",
    "\n",
    "    ## ---- RETRIEVE NUMBER OF PARAMETERS IN ---- ##\n",
    "    ## ----       OPTIMIZEE NETWORK           ----##\n",
    "    \n",
    "    for name, p in optimizee.all_named_parameters():\n",
    "        n_params += int(np.prod(p.size()))\n",
    "        \n",
    "    ## ---- INITIALIZE HIDDEN STATES  ----##\n",
    "    hidden_states = [w(Variable(torch.zeros(n_params, optimizer_net.hidden_sz))) for _ in range(2)]\n",
    "        \n",
    "    ## ---- INITIALIZE THE VECTOR CONTAINING  ----##\n",
    "    ## ---- THE CUMULATIVE LOSS OVER THE LOOP ----##\n",
    "    \n",
    "    all_losses_ever = []\n",
    "\n",
    "    ## ---- RESTART THE GRADIENTS OF THE META-OPT ----##\n",
    "    ## ----        FOR TRAINING PHASE             ----##\n",
    "    \n",
    "    if should_train:\n",
    "        meta_opt.zero_grad()\n",
    "\n",
    "    # Compute the loss of the optimizee and compute the #\n",
    "    # cumulative loss over all iterations.              #\n",
    "    \n",
    "    all_losses = None\n",
    "\n",
    "    \n",
    "    for iteration in range(1, optim_it + 1):\n",
    "        loss = optimizee(target)\n",
    "                    \n",
    "        if all_losses is None:\n",
    "            all_losses = loss\n",
    "        else:\n",
    "            all_losses += loss\n",
    "            \n",
    "        # Appends the current individual loss to a file\n",
    "        all_losses_ever.append(loss.data.cpu().numpy())\n",
    "        \n",
    "        # Compute optimizee's backward propagation of the loss and retain_graph to be used when optimizing the optimizer.\n",
    "        loss.backward(retain_graph=should_train)\n",
    "\n",
    "       \n",
    "        offset = 0\n",
    "        result_params = {}\n",
    "        # New temporary variable inside the loop\n",
    "        hidden_states2 = [w(Variable(torch.zeros(n_params, optimizer_net.hidden_sz))) for _ in range(2)]\n",
    "\n",
    "        # Update each parameters and the cell and hidden states by iterating through the optimizee's \"all_named_parameters\".\n",
    "        for name, p in optimizee.all_named_parameters():\n",
    "            cur_sz = int(np.prod(p.size()))\n",
    "\n",
    "            # We do this so the gradients are disconnected from the graph but we still get\n",
    "            # gradients from the rest\n",
    "            gradients = detach_var(p.grad.view(cur_sz, 1))\n",
    "            \n",
    "            # The gradients are fed to the optimizer network as a flatenned layer (1D)\n",
    "            updates, new_hidden = optimizer_net(gradients, [h[offset:offset+cur_sz] for h in hidden_states])\n",
    "            \n",
    "            for i in range(len(new_hidden)):\n",
    "                hidden_states2[i][offset:offset+cur_sz] = new_hidden[i]\n",
    "\n",
    "            # Updated parameters of the optimizee function    \n",
    "            result_params[name] = p + updates.view(*p.size()) * out_mul\n",
    "            \n",
    "            # The resulting variable isn't a leaf, which means it won't retain grads by default.\n",
    "            result_params[name].retain_grad()\n",
    "            \n",
    "            offset += cur_sz\n",
    "            \n",
    "        # Update the optimizer parameters if    \n",
    "        if iteration % unroll == 0:\n",
    "            if should_train:\n",
    "                meta_opt.zero_grad()\n",
    "                all_losses.backward()\n",
    "                meta_opt.step()\n",
    "\n",
    "            # Restart the losses    \n",
    "            all_losses = None\n",
    "\n",
    "            # Train a new random network with the last parameters obtained and reinitialize the grad\n",
    "            optimizee = w(target_to_opt())\n",
    "            optimizee.load_state_dict(result_params)\n",
    "            optimizee.zero_grad()\n",
    "            hidden_states = [detach_var(v) for v in hidden_states2]\n",
    "            \n",
    "        else:\n",
    "            for name, p in optimizee.all_named_parameters():\n",
    "                rsetattr(optimizee, name, result_params[name])\n",
    "            assert len(list(optimizee.all_named_parameters()))\n",
    "            hidden_states = hidden_states2\n",
    "            \n",
    "    return all_losses_ever\n",
    "\n",
    "\n",
    "# @cache.cache\n",
    "def fit_optimizer(cost_cls, target_to_opt, preproc=False, unroll=20, optim_it=100, n_epochs=20, n_tests=100, lr=0.001, out_mul=1.0):\n",
    "\n",
    "    # Call the GRU Optimizer network\n",
    "    optimizer_net = w(Optimizer(preproc=preproc))\n",
    "\n",
    "    # Choose the optimizer that will optimize the Transformer network\n",
    "    # i.e.: the meta-optimizer\n",
    "    meta_opt = optim.Adam(optimizer_net.parameters(), lr=lr)\n",
    "    \n",
    "    best_net = None\n",
    "    best_loss = 100000000000000000\n",
    "    \n",
    "    for _ in tqdm(range(n_epochs), 'epochs'):\n",
    "        for _ in tqdm(range(20), 'iterations'):\n",
    "            do_fit(optimizer_net, meta_opt, cost_cls, target_to_opt, unroll, optim_it, n_epochs, out_mul, should_train=True)\n",
    "        \n",
    "        loss = (np.mean([\n",
    "            np.sum(do_fit(optimizer_net, meta_opt, cost_cls, target_to_opt, unroll, optim_it, n_epochs, out_mul, should_train=False))\n",
    "            for _ in tqdm(range(n_tests), 'tests')\n",
    "        ]))\n",
    "        \n",
    "        print(loss)\n",
    "        if loss < best_loss:\n",
    "            print(best_loss, loss)\n",
    "            best_loss = loss\n",
    "            best_net = copy.deepcopy(optimizer_net.state_dict())\n",
    "            \n",
    "    return best_loss, best_net"
   ]
  },
  {
   "cell_type": "markdown",
   "id": "handed-restoration",
   "metadata": {},
   "source": [
    "## Optimizer network: PyTorch GRU\n",
    "In this new re-implementation we will use a GRU as the Optimizer instead of a LSTM.\n",
    "\n",
    "Below, the Optimizer is initialized. The amount of hidden units in each layer is 20, as in the paper. The gradients preprocessing uses the same value (10), and later in forward the corresponding steps are performed so the gradient do not propage through the input. There are two GRU layers, in a similar fashion of that what is done in the paper with LSTM."
   ]
  },
  {
   "cell_type": "code",
   "execution_count": 8,
   "id": "scheduled-simple",
   "metadata": {},
   "outputs": [],
   "source": [
    "class Optimizer(nn.Module):\n",
    "    def __init__(self, preproc=False, hidden_sz=20, preproc_threshold=10.0):\n",
    "        super().__init__()\n",
    "\n",
    "        \n",
    "        self.hidden_sz = hidden_sz\n",
    "\n",
    "        # In Appendix A of Learning to Learn (by Gradient Descent)^2 \n",
    "        # the preprocessing steps are explained. \n",
    "        # Due to the preprocessing, there will be two outputs \n",
    "        # instead of one that will be fed to the  GRU.\n",
    "        # Therefore, there are two different cells\n",
    "        # One for preprocessing and one without.\n",
    "        \n",
    "        if preproc:\n",
    "            self.recursive_cell = nn.GRUCell(2, hidden_sz)\n",
    "        else:\n",
    "            self.recursive_cell = nn.GRUCell(1, hidden_sz)\n",
    "\n",
    "        self.recursive_cell2 = nn.GRUCell(hidden_sz, hidden_sz)\n",
    "        self.output = nn.Linear(hidden_sz, 1)\n",
    "\n",
    "        self.preproc = preproc\n",
    "        self.preproc_factor = preproc_threshold\n",
    "        \n",
    "    def forward(self, gradients, hidden):\n",
    "\n",
    "        # Implement preproc described in Appendix A\n",
    "        # if True\n",
    "\n",
    "        if self.preproc:\n",
    "            gradients = gradients.data\n",
    "            log = torch.log(torch.abs(gradients))\n",
    "            clamp_log = torch.clamp(log/self.preproc_factor , min = -1.0,max = 1.0)\n",
    "            clamp_sign = torch.clamp(torch.exp(w(torch.Tensor(self.preproc_factor)))*gradients, min = -1.0, max =1.0)\n",
    "            gradients = torch.cat((clamp_log,clamp_sign), dim = -1)\n",
    "\n",
    "        # Perform the actual forward operations\n",
    "        # Input the data to the first GRU Cell\n",
    "        hidden0 = self.recursive_cell(gradients, hidden[0])\n",
    "\n",
    "        # Use the hidden state of the previous GRU Cell and the second hidden state from the input\n",
    "        hidden1 = self.recursive_cell2(hidden0,  hidden[1])\n",
    " \n",
    "        return self.output(hidden1), (hidden0, hidden1)"
   ]
  },
  {
   "cell_type": "markdown",
   "id": "illegal-appraisal",
   "metadata": {},
   "source": [
    "# Optimizee Network: Quadratic functions\n",
    "\n",
    "The optimizer is supposed to find a 10-element vector called $\\theta$ that, when multiplied by a 10x10 matrix called $W$, is as close as possible to a 10-element vector called $y$. Both $y$ and $W$ are generated randomly. The error is simply the squared error.\n",
    "\n",
    "## Class and function definitions"
   ]
  },
  {
   "cell_type": "code",
   "execution_count": 9,
   "id": "split-mobile",
   "metadata": {},
   "outputs": [],
   "source": [
    "class QuadraticLoss:\n",
    "    def __init__(self, **kwargs):\n",
    "        self.W = w(Variable(torch.randn(10, 10)))\n",
    "        self.y = w(Variable(torch.randn(10)))\n",
    "        \n",
    "    def get_loss(self, theta):\n",
    "        return torch.sum((self.W.matmul(theta) - self.y)**2)\n",
    "    \n",
    "class QuadOptimizee(MetaModule):\n",
    "    def __init__(self, theta=None):\n",
    "        super().__init__()\n",
    "        self.register_buffer('theta', to_var(torch.zeros(10).cuda(), requires_grad=True))\n",
    "        \n",
    "    def forward(self, target):\n",
    "        return target.get_loss(self.theta)\n",
    "    \n",
    "    def parameters(self):\n",
    "        return [self.theta]\n",
    "    \n",
    "    def all_named_parameters(self):\n",
    "        return [('theta', self.theta)]"
   ]
  },
  {
   "cell_type": "markdown",
   "id": "pretty-chapter",
   "metadata": {},
   "source": [
    "## Find best learning rate for meta_optimizer\n",
    "The experiment below fits various learning rates that are used in the meta_optimizer (ADAM)."
   ]
  },
  {
   "cell_type": "code",
   "execution_count": null,
   "id": "hired-arbor",
   "metadata": {},
   "outputs": [],
   "source": [
    "for lr in tqdm([0.03, 0.01, 0.003, 0.001, 0.0003, 0.0001], 'all'):\n",
    "    print('Learning rate:', lr)\n",
    "    print(fit_optimizer(QuadraticLoss, QuadOptimizee, lr=lr, n_epochs=10)[0])"
   ]
  },
  {
   "cell_type": "markdown",
   "id": "radio-genesis",
   "metadata": {},
   "source": [
    "The experiment shows that 0.003 is a promising learning rate. It is not the lowest, but we are training on only 20 epochs by default and will then retrain with 100 epochs, so it is good to have a slightly lower learning rate for training for longer."
   ]
  },
  {
   "cell_type": "markdown",
   "id": "unable-schema",
   "metadata": {},
   "source": [
    "Next, the final model is trained with the learning rate (lr = 0.003) found in the previous block and the number of epochs are increased to 100."
   ]
  },
  {
   "cell_type": "code",
   "execution_count": null,
   "id": "cooked-knowing",
   "metadata": {},
   "outputs": [],
   "source": [
    "loss, quad_optimizer = fit_optimizer(QuadraticLoss, QuadOptimizee, lr=0.003, n_epochs=100)"
   ]
  },
  {
   "cell_type": "code",
   "execution_count": null,
   "id": "bulgarian-auction",
   "metadata": {},
   "outputs": [],
   "source": [
    "## Find best learning rate for conventional optimizers\n",
    "\n",
    "The following two functions are used to find the best learning rate for conventional optimizers: ADAM, RMSProp, SGD and NAG. "
   ]
  },
  {
   "cell_type": "markdown",
   "id": "artificial-group",
   "metadata": {},
   "source": [
    "In the cell below:\n",
    "\n",
    "- QUAD_LRS are the best learning rates obtained for the conventional optimizers\n",
    "- fit_data is initialized to 0 and the third dimension has length equal to all conventional opt. + Transformer\n",
    "- The data is fitted with the best learning rate for conventional optimizers.\n",
    "- The state_dict of the optimizer network found in the previous section is loaded\n",
    "- Why is it fitted again I don't know    "
   ]
  },
  {
   "cell_type": "code",
   "execution_count": 15,
   "id": "accepting-official",
   "metadata": {},
   "outputs": [],
   "source": [
    "QUAD_LRS = [0.1, 0.03, 0.01, 0.01]\n",
    "fit_data = np.zeros((100, 100, len(OPT_NAMES) + 1))\n",
    "for i, ((opt, extra_kwargs), lr) in enumerate(zip(NORMAL_OPTS, QUAD_LRS)):\n",
    "    np.random.seed(0)\n",
    "    fit_data[:, :, i] = np.array(fit_normal(QuadraticLoss, QuadOptimizee, opt, lr=lr, **extra_kwargs))\n",
    "\n",
    "opt = w(Optimizer())\n",
    "opt.load_state_dict(quad_optimizer)\n",
    "np.random.seed(0)\n",
    "fit_data[:, :, len(OPT_NAMES)] = np.array([do_fit(opt, None, QuadraticLoss, QuadOptimizee, 1, 100, 100, out_mul=1.0, should_train=False) for _ in range(100)])\n",
    "# fit_data[:, :, len(OPT_NAMES) + 1] = np.load(\"fitted_lstm_003.npy\")"
   ]
  },
  {
   "cell_type": "markdown",
   "id": "animal-newfoundland",
   "metadata": {
    "pycharm": {
     "name": "#%% md\n"
    }
   },
   "source": [
    "## Graphical results\n",
    "\n",
    "Here, our results are shown:"
   ]
  },
  {
   "cell_type": "code",
   "execution_count": 18,
   "id": "established-pipeline",
   "metadata": {
    "pycharm": {
     "name": "#%%\n"
    }
   },
   "outputs": [
    {
     "data": {
      "image/png": "[encoded data removed]",
      "text/plain": [
       "<Figure size 432x288 with 1 Axes>"
      ]
     },
     "metadata": {},
     "output_type": "display_data"
    }
   ],
   "source": [
    "ax = sns.tsplot(data=fit_data[:, :, :], condition=OPT_NAMES + ['GRU'], linestyle='--', color=['r', 'b', 'g', 'k', 'y'])\n",
    "ax.lines[-1].set_linestyle('-')\n",
    "ax.legend()\n",
    "plt.yscale('log')\n",
    "plt.xlabel('steps')\n",
    "plt.ylabel('loss')\n",
    "plt.grid()\n",
    "plt.title('Quadratic functions')\n",
    "plt.savefig('quadratic_results_gru_6apr.png', dpi=300)\n",
    "plt.show()"
   ]
  },
  {
   "cell_type": "markdown",
   "id": "accompanied-consultancy",
   "metadata": {
    "pycharm": {
     "name": "#%% md\n"
    }
   },
   "source": [
    "## Combine GRU and LSTM plots"
   ]
  },
  {
   "cell_type": "code",
   "execution_count": null,
   "id": "medical-requirement",
   "metadata": {
    "pycharm": {
     "name": "#%%\n"
    }
   },
   "outputs": [],
   "source": [
    "QUAD_LRS = [0.1, 0.03, 0.01, 0.01]\n",
    "fit_data = np.zeros((100, 100, len(OPT_NAMES) + 2))\n",
    "for i, ((opt, extra_kwargs), lr) in enumerate(zip(NORMAL_OPTS, QUAD_LRS)):\n",
    "    np.random.seed(0)\n",
    "    fit_data[:, :, i] = np.array(fit_normal(QuadraticLoss, QuadOptimizee, opt, lr=lr, **extra_kwargs))\n",
    "\n",
    "opt = w(Optimizer())\n",
    "opt.load_state_dict(quad_optimizer)\n",
    "np.random.seed(0)\n",
    "fit_data[:, :, len(OPT_NAMES)] = np.array([do_fit(opt, None, QuadraticLoss, QuadOptimizee, 1, 100, 100, out_mul=1.0, should_train=False) for _ in range(100)])\n",
    "fit_data[:, :, len(OPT_NAMES) + 1] = np.load(\"lstm_003_6april.npy\")"
   ]
  },
  {
   "cell_type": "code",
   "execution_count": null,
   "id": "alpine-agenda",
   "metadata": {
    "pycharm": {
     "name": "#%%\n"
    }
   },
   "outputs": [],
   "source": [
    "ax = sns.tsplot(data=fit_data[:, :, :], condition=OPT_NAMES + ['GRU', 'LSTM'], linestyle='--', color=['r', 'b', 'g', 'k', 'y', 'c'])\n",
    "ax.lines[-1].set_linestyle('-')\n",
    "ax.legend()\n",
    "plt.yscale('log')\n",
    "plt.xlabel('steps')\n",
    "plt.ylabel('loss')\n",
    "plt.grid()\n",
    "plt.title('Quadratic functions')\n",
    "# plt.savefig('quadratic_results_gru_lstm_6apr.png', dpi=300)\n",
    "plt.show()"
   ]
  },
  {
   "cell_type": "code",
   "execution_count": 19,
   "id": "approximate-orange",
   "metadata": {},
   "outputs": [],
   "source": [
    "# Optimizee network: MNIST"
   ]
  },
  {
   "cell_type": "code",
   "execution_count": 22,
   "id": "ordered-client",
   "metadata": {},
   "outputs": [
    {
     "data": {
      "image/png": "[encoded data removed]",
      "text/plain": [
       "<Figure size 432x288 with 1 Axes>"
      ]
     },
     "metadata": {},
     "output_type": "display_data"
    }
   ],
   "source": [
    "ax = sns.tsplot(data=fit_data[:, :, :], condition=OPT_NAMES + ['GRU', 'LSTM'], linestyle='--', color=['r', 'b', 'g', 'k', 'y', 'c'])\n",
    "ax.lines[-1].set_linestyle('-')\n",
    "ax.legend()\n",
    "plt.yscale('log')\n",
    "plt.xlabel('steps')\n",
    "plt.ylabel('loss')\n",
    "plt.grid()\n",
    "plt.title('Quadratic functions')\n",
    "# plt.savefig('quadratic_results_gru_lstm_6apr.png', dpi=300)\n",
    "plt.show()"
   ]
  },
  {
   "cell_type": "markdown",
   "id": "flying-dispute",
   "metadata": {},
   "source": [
    "# Optimizee network: MNIST"
   ]
  },
  {
   "cell_type": "code",
   "execution_count": null,
   "id": "equivalent-american",
   "metadata": {},
   "outputs": [],
   "source": [
    "class MNISTLoss:\n",
    "    def __init__(self, training=True):\n",
    "        dataset = datasets.MNIST(\n",
    "            '/home/chenwy/mnist', train=True, download=True,\n",
    "            transform=torchvision.transforms.ToTensor()\n",
    "        )\n",
    "        indices = list(range(len(dataset)))\n",
    "        np.random.RandomState(10).shuffle(indices)\n",
    "        if training:\n",
    "            indices = indices[:len(indices) // 2]\n",
    "        else:\n",
    "            indices = indices[len(indices) // 2:]\n",
    "\n",
    "        self.loader = torch.utils.data.DataLoader(\n",
    "            dataset, batch_size=128,\n",
    "            sampler=torch.utils.data.sampler.SubsetRandomSampler(indices))\n",
    "\n",
    "        self.batches = []\n",
    "        self.cur_batch = 0 #current batch\n",
    "        \n",
    "    def sample(self):\n",
    "        if self.cur_batch >= len(self.batches):\n",
    "            self.batches = []\n",
    "            self.cur_batch = 0\n",
    "            for b in self.loader:\n",
    "                self.batches.append(b)\n",
    "        batch = self.batches[self.cur_batch]\n",
    "        self.cur_batch += 1\n",
    "        return batch\n",
    "\n",
    "class MNISTNet(MetaModule):\n",
    "    def __init__(self, layer_size=20, n_layers=1, **kwargs):\n",
    "        super().__init__()\n",
    "\n",
    "        inp_size = 28*28\n",
    "        self.layers = {}\n",
    "        for i in range(n_layers):\n",
    "            self.layers[f'mat_{i}'] = MetaLinear(inp_size, layer_size)\n",
    "            inp_size = layer_size\n",
    "\n",
    "        self.layers['final_mat'] = MetaLinear(inp_size, 10)\n",
    "        self.layers = nn.ModuleDict(self.layers)\n",
    "\n",
    "        self.activation = nn.Sigmoid()\n",
    "        self.loss = nn.NLLLoss()\n",
    "\n",
    "    def all_named_parameters(self):\n",
    "        return [(k, v) for k, v in self.named_parameters()]\n",
    "    \n",
    "    def forward(self, loss):\n",
    "        inp, out = loss.sample()\n",
    "        inp = w(Variable(inp.view(inp.size()[0], 28*28)))\n",
    "        out = w(Variable(out))\n",
    "\n",
    "        cur_layer = 0 #current layer\n",
    "        while f'mat_{cur_layer}' in self.layers:\n",
    "            inp = self.activation(self.layers[f'mat_{cur_layer}'](inp))\n",
    "            cur_layer += 1\n",
    "\n",
    "        inp = F.log_softmax(self.layers['final_mat'](inp), dim=1)\n",
    "        l = self.loss(inp, out)\n",
    "        return l"
   ]
  },
  {
   "cell_type": "markdown",
   "id": "authorized-graduation",
   "metadata": {},
   "source": [
    "## Find best learning rate for meta_optimizer\n",
    "The experiment below fits various learning rates that are used in the meta_optimizer (ADAM)"
   ]
  },
  {
   "cell_type": "code",
   "execution_count": null,
   "id": "living-brooks",
   "metadata": {},
   "outputs": [],
   "source": [
    "for lr in tqdm(sorted([1.0, 0.3, 0.1, 0.03, 0.01, 0.003, 0.001, 0.0003, 0.0001, 0.00003, 0.00001], key=lambda x: np.abs(x - 0.003)), 'all'):\n",
    "    print('Trying lr:', lr)\n",
    "    print(fit_optimizer(MNISTLoss, MNISTNet, lr=lr, out_mul=0.1, preproc=True, n_tests=5, n_epochs=10)[0])"
   ]
  },
  {
   "cell_type": "markdown",
   "id": "latter-teaching",
   "metadata": {},
   "source": [
    "The experiment shows that 0.01 is a promising learning rate. It is not the lowest, but we are training on only 20 epochs by default and will then retrain with 100 epochs, so it is good to have a slightly lower learning rate for training for longer.\n",
    "\n",
    "Next, the final model is trained with the learning rate (lr = 0.01) found in the previous block and the number of epochs are increased to 100."
   ]
  },
  {
   "cell_type": "code",
   "execution_count": null,
   "id": "spanish-retrieval",
   "metadata": {},
   "outputs": [],
   "source": [
    "loss, mnist_optimizer = fit_optimizer(MNISTLoss, MNISTNet, lr=0.01, n_epochs=100, n_tests=20, out_mul=0.1, preproc=True)\n",
    "print('The GRU model loss with the best found learning rate is: ', loss)"
   ]
  },
  {
   "cell_type": "markdown",
   "id": "available-heather",
   "metadata": {},
   "source": [
    "## Find best learning rate for conventional optimizers\n",
    "\n",
    "The following two functions are used to find the best learning rate for conventional optimizers: ADAM, RMSProp, SGD and NAG. "
   ]
  },
  {
   "cell_type": "code",
   "execution_count": null,
   "id": "nearby-technical",
   "metadata": {},
   "outputs": [],
   "source": [
    "for opt, kwargs in NORMAL_OPTS:\n",
    "    print(find_best_lr_normal(MNISTLoss, MNISTNet, opt, **kwargs, n_tests=10))"
   ]
  },
  {
   "cell_type": "markdown",
   "id": "invalid-native",
   "metadata": {},
   "source": [
    "The best learning rates found are used to compare it with the GRU Optimizer"
   ]
  },
  {
   "cell_type": "code",
   "execution_count": null,
   "id": "loaded-subscription",
   "metadata": {},
   "outputs": [],
   "source": [
    "QUAD_LRS = [0.03, 0.01, 1.0, 1.0]\n",
    "N_TESTS = 100\n",
    "\n",
    "fit_data = np.zeros((N_TESTS, 200, len(OPT_NAMES) + 1))\n",
    "for i, ((opt, extra_kwargs), lr) in enumerate(zip(NORMAL_OPTS, QUAD_LRS)):\n",
    "    np.random.seed(0)\n",
    "    fit_data[:, :, i] = np.array(fit_normal(MNISTLoss, MNISTNet, opt, lr=lr, n_tests=N_TESTS, n_epochs=200, **extra_kwargs))"
   ]
  },
  {
   "cell_type": "code",
   "execution_count": null,
   "id": "played-participant",
   "metadata": {},
   "outputs": [],
   "source": [
    "@cache.cache\n",
    "def get_fit_dict_test(n_tests, opt_dict, *args, **kwargs):\n",
    "    opt = w(Optimizer(preproc=True))\n",
    "    opt.load_state_dict(opt_dict)\n",
    "    np.random.seed(0)\n",
    "    return [do_fit(opt, *args, **kwargs) for _ in tqdm(range(N_TESTS), 'optimizer')]\n",
    "\n",
    "fit_data[:, :, len(OPT_NAMES)] = np.array(get_fit_dict_test(N_TESTS, mnist_optimizer, None, MNISTLoss, MNISTNet, 1, 200, 200, out_mul=0.1, should_train=False))"
   ]
  },
  {
   "cell_type": "markdown",
   "id": "worth-amazon",
   "metadata": {},
   "source": [
    "### Graphical Results"
   ]
  },
  {
   "cell_type": "code",
   "execution_count": null,
   "id": "sought-canon",
   "metadata": {},
   "outputs": [],
   "source": [
    "ax = sns.tsplot(data=fit_data[:, :, :], condition=OPT_NAMES + ['GRU'], linestyle='--', color=['r', 'b', 'g', 'k', 'y'])\n",
    "ax.lines[-1].set_linestyle('-')\n",
    "ax.legend()\n",
    "plt.yscale('log')\n",
    "plt.xlabel('Steps')\n",
    "plt.ylabel('Loss')\n",
    "plt.title('MNIST')\n",
    "plt.savefig('MNIST_results_gru.png')\n",
    "plt.show()"
   ]
  },
  {
   "cell_type": "markdown",
   "id": "meaning-chest",
   "metadata": {},
   "source": [
    "# Extend MNIST Results\n",
    "\n",
    "After performing the first comparison we look at variations of the MNIST optimizee network: a 2 layer feedforward with 20 units per layer network, a 40 units 1-layer network, and 1-layer network with ReLU activation. "
   ]
  },
  {
   "cell_type": "code",
   "execution_count": null,
   "id": "stylish-makeup",
   "metadata": {},
   "outputs": [],
   "source": [
    "class MNISTNet2Layer(MNISTNet):\n",
    "    def __init__(self, *args, **kwargs):\n",
    "        super().__init__(n_layers=2, *args, **kwargs)\n",
    "        \n",
    "class MNISTNetBig(MNISTNet):\n",
    "    def __init__(self, *args, **kwargs):\n",
    "        super().__init__(layer_size=40, *args, **kwargs)\n",
    "        \n",
    "class MNISTRelu(MNISTNet):\n",
    "    def __init__(self, *args, **kwargs):\n",
    "        super().__init__(*args, **kwargs)\n",
    "        self.activation = nn.ReLU()"
   ]
  },
  {
   "cell_type": "markdown",
   "id": "numerous-suicide",
   "metadata": {},
   "source": [
    "Again, we look for the best learning rates for the conventional optimizers."
   ]
  },
  {
   "cell_type": "code",
   "execution_count": null,
   "id": "floppy-japanese",
   "metadata": {},
   "outputs": [],
   "source": [
    "for opt, kwargs in NORMAL_OPTS:\n",
    "    print(find_best_lr_normal(MNISTLoss, MNISTNet2Layer, opt, **kwargs, n_tests=10))\n",
    "\n",
    "for opt, kwargs in NORMAL_OPTS:\n",
    "    print(find_best_lr_normal(MNISTLoss, MNISTNetBig, opt, **kwargs, n_tests=10))\n",
    "\n",
    "for opt, kwargs in NORMAL_OPTS:\n",
    "    print(find_best_lr_normal(MNISTLoss, MNISTRelu, opt, **kwargs, n_tests=10))"
   ]
  },
  {
   "cell_type": "markdown",
   "id": "understood-missile",
   "metadata": {},
   "source": [
    "The best results (QUAD_LRS) are used for the comparison.\n",
    "\n",
    "## MNIST 2 layers"
   ]
  },
  {
   "cell_type": "code",
   "execution_count": null,
   "id": "premier-communication",
   "metadata": {},
   "outputs": [],
   "source": [
    "QUAD_LRS = [0.01, 0.003, 0.03, 1.0]\n",
    "N_TESTS = 100\n",
    "\n",
    "fit_data = np.zeros((N_TESTS, 200, len(OPT_NAMES) + 1))\n",
    "for i, ((opt, extra_kwargs), lr) in enumerate(zip(NORMAL_OPTS, QUAD_LRS)):\n",
    "    np.random.seed(0)\n",
    "    fit_data[:, :, i] = np.array(fit_normal(MNISTLoss, MNISTNet2Layer, opt, lr=lr, n_tests=N_TESTS, n_epochs=200, **extra_kwargs))\n",
    "\n",
    "fit_data[:, :, len(OPT_NAMES)] = np.array(get_fit_dict_test(N_TESTS, mnist_optimizer, None, MNISTLoss, MNISTNet2Layer, 1, 200, 200, out_mul=0.1, should_train=False))"
   ]
  },
  {
   "cell_type": "markdown",
   "id": "harmful-noise",
   "metadata": {},
   "source": [
    "### Graphical results: MNIST optimizee with 2 layers - GRU Optimizer"
   ]
  },
  {
   "cell_type": "code",
   "execution_count": null,
   "id": "south-rendering",
   "metadata": {},
   "outputs": [],
   "source": [
    "ax = sns.tsplot(data=fit_data[:, :, :], condition=OPT_NAMES + ['GRU'], linestyle='--', color=['r', 'b', 'g', 'k', 'y'])\n",
    "ax.lines[-1].set_linestyle('-')\n",
    "ax.legend()\n",
    "plt.yscale('log')\n",
    "plt.xlabel('Steps')\n",
    "plt.ylabel('Loss')\n",
    "plt.title('MNIST (2 layers)')\n",
    "plt.savefig('MNIST_results_GRU_2layers.png')\n",
    "plt.show()"
   ]
  },
  {
   "cell_type": "markdown",
   "id": "shaped-directory",
   "metadata": {},
   "source": [
    "## MNIST 40 units"
   ]
  },
  {
   "cell_type": "code",
   "execution_count": null,
   "id": "persistent-window",
   "metadata": {},
   "outputs": [],
   "source": [
    "QUAD_LRS = [0.03, 0.01, 1.0, 1.0]\n",
    "N_TESTS = 100\n",
    "\n",
    "fit_data = np.zeros((N_TESTS, 200, len(OPT_NAMES) + 1))\n",
    "for i, ((opt, extra_kwargs), lr) in enumerate(zip(NORMAL_OPTS, QUAD_LRS)):\n",
    "    np.random.seed(0)\n",
    "    fit_data[:, :, i] = np.array(fit_normal(MNISTLoss, MNISTNetBig, opt, lr=lr, n_tests=N_TESTS, n_epochs=200, **extra_kwargs))\n",
    "\n",
    "fit_data[:, :, len(OPT_NAMES)] = np.array(get_fit_dict_test(N_TESTS, mnist_optimizer, None, MNISTLoss, MNISTNetBig, 1, 200, 200, out_mul=0.1, should_train=False))"
   ]
  },
  {
   "cell_type": "markdown",
   "id": "normal-package",
   "metadata": {},
   "source": [
    "### Graphical results: MNIST optimizee with 40 Units - GRU Optimizer"
   ]
  },
  {
   "cell_type": "code",
   "execution_count": null,
   "id": "separate-delta",
   "metadata": {},
   "outputs": [],
   "source": [
    "ax = sns.tsplot(data=fit_data[:, :, :], condition=OPT_NAMES + ['GRU'], linestyle='--', color=['r', 'b', 'g', 'k', 'y'])\n",
    "ax.lines[-1].set_linestyle('-')\n",
    "ax.legend()\n",
    "plt.yscale('log')\n",
    "plt.xlabel('steps')\n",
    "plt.ylabel('loss')\n",
    "plt.title('MNIST (40 hidden units)')\n",
    "plt.savefig('MNIST_results_gru_40units.png')\n",
    "plt.show()"
   ]
  },
  {
   "cell_type": "markdown",
   "id": "bibliographic-bandwidth",
   "metadata": {},
   "source": [
    "## MNIST ReLU Activation"
   ]
  },
  {
   "cell_type": "code",
   "execution_count": null,
   "id": "economic-heater",
   "metadata": {},
   "outputs": [],
   "source": [
    "QUAD_LRS = [0.03, 0.003, 0.3, 0.3]\n",
    "N_TESTS = 100\n",
    "\n",
    "fit_data = np.zeros((N_TESTS, 200, len(OPT_NAMES) + 1))\n",
    "for i, ((opt, extra_kwargs), lr) in enumerate(zip(NORMAL_OPTS, QUAD_LRS)):\n",
    "    np.random.seed(0)\n",
    "    fit_data[:, :, i] = np.array(fit_normal(MNISTLoss, MNISTRelu, opt, lr=lr, n_tests=N_TESTS, n_epochs=200, **extra_kwargs))\n",
    "\n",
    "fit_data[:, :, len(OPT_NAMES)] = np.array(get_fit_dict_test(N_TESTS, mnist_optimizer, None, MNISTLoss, MNISTRelu, 1, 200, 200, out_mul=0.1, should_train=False))"
   ]
  },
  {
   "cell_type": "markdown",
   "id": "fifteen-action",
   "metadata": {},
   "source": [
    "### Graphical results: MNIST optimizee with ReLU Activation - GRU Optimizer"
   ]
  },
  {
   "cell_type": "code",
   "execution_count": null,
   "id": "funky-strap",
   "metadata": {},
   "outputs": [],
   "source": [
    "ax = sns.tsplot(data=fit_data[:, :, :], condition=OPT_NAMES + ['GRU'], linestyle='--', color=['r', 'b', 'g', 'k', 'y'])\n",
    "ax.lines[-1].set_linestyle('-')\n",
    "ax.legend()\n",
    "plt.yscale('log')\n",
    "plt.xlabel('steps')\n",
    "plt.ylabel('loss')\n",
    "plt.title('MNIST (ReLU)')\n",
    "plt.savefig('MNIST_results_gru_relu.png')\n",
    "plt.show()"
   ]
  }
 ],
 "metadata": {
  "kernelspec": {
   "display_name": "PyCharm (learning-to-learn-by-gradient-descent-by-gradient-descent)",
   "language": "python",
   "name": "pycharm-b1d8a7da"
  },
  "language_info": {
   "codemirror_mode": {
    "name": "ipython",
    "version": 3
   },
   "file_extension": ".py",
   "mimetype": "text/x-python",
   "name": "python",
   "nbconvert_exporter": "python",
   "pygments_lexer": "ipython3",
   "version": "3.7.10"
  },
  "pycharm": {
   "stem_cell": {
    "cell_type": "raw",
    "source": [],
    "metadata": {
     "collapsed": false
    }
   }
  }
 },
 "nbformat": 4,
 "nbformat_minor": 5
}